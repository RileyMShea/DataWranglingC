{
 "cells": [
  {
   "cell_type": "markdown",
   "metadata": {
    "pycharm": {
     "metadata": false
    }
   },
   "source": [
    "# OpenStreetMap Data Case Study\n",
    "    *Adapted from https://gist.github.com/carlward/54ec1c91b62a5f911c42#file-sample_project-md*\n",
    "\n",
    "\n",
    "### Map Area\n",
    "Rochester, NY United States\n",
    "\n",
    "- [https://www.openstreetmap.org/export#map=12/43.1721/-77.5521](https://www.openstreetmap.org/export#map=12/43.1721/-77.5521)\n",
    "\n",
    "Rochester, NY is my hometown so I thought it would be interesting to see if I could learn more about the surrounding area.\n"
   ]
  },
  {
   "cell_type": "markdown",
   "metadata": {
    "pycharm": {
     "metadata": false,
     "name": "#%% md\n"
    }
   },
   "source": [
    "## Problems Encountered in the Map:\n",
    "### After parsing the XML with BeautifulSoup and inserting the records into MongoDB, I noticed five main problems with the data, which I will discuss in the following order:\n",
    "\n",
    "    For some extra experience I opted to use a combination of BeautifulSoup and Pandas to clean and process a lot of the data that was  handled with ElementTree in the Lessons. I have my implementations from those files for completeness, though I won't be using them here.\n",
    "\n",
    "- Inconsistent postal codes *(“1445033”, “14607-2082”, “14617-1822”)*\n",
    "- Non-standardized street suffixes \n"
   ]
  },
  {
   "cell_type": "markdown",
   "metadata": {
    "pycharm": {
     "metadata": false,
     "name": "#%% md\n"
    }
   },
   "source": [
    "### Over­abbreviated Street Names\n",
    "Once the data was imported to MongoDB, some basic querying revealed street suffix and postal code inconsistencies. To deal with correcting street names, I opted not use regular expressions, and instead iterated over each word in an address, correcting them to their respective mappings in audit.py using the following function:\n",
    "\n",
    "```python \n",
    "def update(name, mapping): \n",
    "\twords = name.split()\n",
    "\tfor w in range(len(words)):\n",
    "\t\tif words[w] in mapping:\n",
    "\t\t\tif words[w­1].lower() not in ['suite', 'ste.', 'ste']: \n",
    "\t\t\t\t# For example, don't update 'Suite E' to 'Suite East'\n",
    "\t\t\t\twords[w] = mapping[words[w]] name = \" \".join(words)\n",
    "\treturn name\n",
    "```\n",
    "\n",
    "This updated all substrings in problematic address strings, such that:\n",
    "*“S Tryon St Ste 105”*\n",
    "becomes:\n",
    "*“South Tryon Street Suite 105”*"
   ]
  },
  {
   "cell_type": "markdown",
   "metadata": {
    "pycharm": {
     "metadata": false,
     "name": "#%% md\n"
    }
   },
   "source": [
    "### Postal Codes\n",
    "Fixing postal codes involved finding unique zip code and auditing them them to ensure they followed the same format, namely:\n",
    "\n",
    "> 5 digits\n",
    "> all numbers\n",
    "\n",
    "\n",
    "\n",
    "Regardless, after standardizing inconsistent postal codes, some altogether “incorrect” (or perhaps misplaced?) postal codes surfaced when grouped together with this aggregation pipeline query:\n",
    "\n",
    "```python\n",
    "unique_zip_codes = osm_col.distinct('addr:postcode')\n",
    "pprint(unique_zip_codes)\n",
    "```\n",
    "\n",
    "Here are the top ten results, beginning with the highest count:\n",
    "\n",
    "```python\n",
    "pprint(list(osm_col.aggregate([\n",
    "    {\n",
    "        '$group': {\n",
    "            '_id': '$addr:postcode', \n",
    "            'count': {\n",
    "                '$sum': 1\n",
    "            }\n",
    "        }\n",
    "    }, {\n",
    "        '$sort': {\n",
    "            'count': -1\n",
    "        }\n",
    "    }\n",
    "]))[1:11])\n",
    "```\n",
    "```python\n",
    "[{'_id': None, 'count': 452824},\n",
    " {'_id': '14450', 'count': 1624},\n",
    " {'_id': '14624', 'count': 445},\n",
    " {'_id': '14618', 'count': 421},\n",
    " {'_id': '14623', 'count': 392},\n",
    " {'_id': '14534', 'count': 346},\n",
    " {'_id': '14626', 'count': 300},\n",
    " {'_id': '14514', 'count': 264},\n",
    " {'_id': '14612', 'count': 226},\n",
    " {'_id': '14620', 'count': 177}]\n",
    "```\n",
    "\n",
    "\n",
    " As we see here the majority of documents do not have a zip code listed in the 'addr:postcode' field.  After Our cleaning though the zip codes that we do have all appear to be valid for the Rochester area and in the correct 5 digit format "
   ]
  },
  {
   "cell_type": "markdown",
   "metadata": {
    "pycharm": {
     "metadata": false,
     "name": "#%% md\n"
    }
   },
   "source": [
    " \n",
    "# Sort cities by count, descending\n",
    "\n",
    "``` python\n",
    "#City counts\n",
    "city_counts = list(osm_col.aggregate([\n",
    "    {\n",
    "        '$group': {\n",
    "            '_id': '$addr:city', \n",
    "            'count': {\n",
    "                '$sum': 1\n",
    "            }\n",
    "        }\n",
    "    }, {\n",
    "        '$sort': {\n",
    "            'count': -1\n",
    "        }\n",
    "    }\n",
    "]))\n",
    "```\n",
    "\n",
    "And, the results, edited for readability:\n",
    "\n",
    "```sql\n",
    "None                452842\n",
    "Rochester           2227\n",
    "Fairport            1612\n",
    "Pittsford           350\n",
    "North Chili         264\n",
    "Brighton            205\n",
    "Greece              161\n",
    "Webster             86\n",
    "Henrietta           35\n",
    "Churchville         29\n",
    "West Henrietta      18\n",
    "East Rochester      17\n",
    "Rochester, NY       16\n",
    "Penfield            16\n",
    "Perinton            15\n",
    "Hilton              15\n",
    "Spencerport         11\n",
    "North Greece        5\n",
    "Macedon             5\n",
    "Riga                2\n",
    "rochester           2\n",
    "Ontario, NY         2\n",
    "Walworth            2\n",
    "Gates               2\n",
    "Irondequoit         2\n",
    "Ontario             1\n",
    "W Commercial St     1\n",
    "Rochestet           1\n",
    "pittsford           1\n",
    "East Rochester Town 1\n",
    "```\n",
    "\n",
    "These results confirmed my suspicion that this metro extract would perhaps be more aptly named “Metrolina” or the “Charlotte Metropolitan Area” for its inclusion of surrounding cities in the sprawl. More importantly, three documents need to have their trailing state abbreviations stripped. So, these postal codes aren’t “incorrect,” but simply unexpected. However, one final case proved otherwise.\n",
    "A single zip code stood out as clearly erroneous. Somehow, a “48009” got into the dataset. Let’s display part of its document for closer inspection (for our purposes, only the “address” and “pos” fields are relevant):\n",
    "\n",
    "```sql\n",
    "sqlite> SELECT *\n",
    "FROM nodes \n",
    "WHERE id IN (SELECT DISTINCT(id) FROM nodes_tags WHERE key='postcode' AND value='48009')\n",
    "```\n",
    "`1234706337|35.2134608|-80.8270161|movercash|433196|1|7784874|2011-04-06T13:16:06Z`\n",
    "\n",
    "`sqlite> SELECT * FROM nodes_tags WHERE id=1234706337 and type='addr';`\n",
    "\n",
    "```sql\n",
    "1234706337|housenumber|280|addr\n",
    "1234706337|postcode|48009|addr\n",
    "1234706337|street|North Old Woodward Avenue|addr\n",
    "```\n",
    "\n",
    " It turns out, *“280 North Old Woodward Avenue, 48009”* is in Birmingham, Michigan. All data in this document, including those not shown here, are internally consistent and verifiable, except for the latitude and longitude. These coordinates are indeed in Charlotte, NC. I’m not sure about the source of the error, but we can guess it was most likely sitting in front of a computer before this data entered the map. The document can be removed from the database easily enough."
   ]
  },
  {
   "cell_type": "markdown",
   "metadata": {
    "pycharm": {
     "metadata": false,
     "name": "#%% md\n"
    }
   },
   "source": [
    "# Data Overview and Additional Ideas\n",
    "This section contains basic statistics about the dataset, the MongoDB queries used to gather them, and some additional ideas about the data in context."
   ]
  },
  {
   "cell_type": "markdown",
   "metadata": {
    "pycharm": {
     "metadata": false,
     "name": "#%% md\n"
    }
   },
   "source": [
    "### File sizes\n",
    "``` bash\n",
    "ls -sX -h\n",
    "```\n",
    "```\n",
    "total 270M\n",
    "   0 __pycache__             4.0K Untitled.ipynb   36K test_scientific_export.ipynb   90M rochester_ny_bak.osm  4.0K audit_street_names.py  4.0K json_to_mongo.py  4.0K users.py\n",
    "1.0K street_affixes           76K bs42nd.ipynb     90M rochester_osm.json            1.0K tag_data.pickle       1.0K bs4_osm.py             4.0K mapparser.py      4.0K street_identifiers.txt\n",
    " 16K Final_submission.ipynb  4.0K bs4stuff.ipynb   90M rochester_ny.osm              4.0K audit.py              8.0K data.py                8.0K osm_to_mongo.py      0 untitled.txt\n",
    "\n",
    "```  "
   ]
  },
  {
   "cell_type": "markdown",
   "metadata": {
    "pycharm": {
     "metadata": false,
     "name": "#%% md\n"
    }
   },
   "source": [
    "### Number of nodes\n",
    "``` javascript\n",
    "db.rochester_osm.find({\"type\": \"node\"}).count()\n",
    "```\n",
    "\n",
    "> 405415"
   ]
  },
  {
   "cell_type": "markdown",
   "metadata": {
    "pycharm": {
     "metadata": false,
     "name": "#%% md\n"
    }
   },
   "source": [
    "### Number of ways\n",
    "``` javascript\n",
    "db.rochester_osm.find({\"type\": \"way\"}).count()\n",
    "```\n",
    "> 52523"
   ]
  },
  {
   "cell_type": "markdown",
   "metadata": {
    "pycharm": {
     "metadata": false,
     "name": "#%% md\n"
    }
   },
   "source": [
    "### Number of unique users\n",
    "```shell\n",
    "db.rochester_osm.distinct(\"user\").length\n",
    "```\n",
    "719"
   ]
  },
  {
   "cell_type": "markdown",
   "metadata": {
    "pycharm": {
     "metadata": false,
     "name": "#%% md\n"
    }
   },
   "source": [
    "### Top 20 contributing users\n",
    "```javascript\n",
    "db.rochester_osm.aggregate({\n",
    "  '$sortByCount': \"$user\"\n",
    "})\n",
    "```\n",
    "```python\n",
    "{ \"_id\" : \"woodpeck_fixbot\", \"count\" : 57093 }\n",
    "{ \"_id\" : \"wambag\", \"count\" : 48318 }\n",
    "{ \"_id\" : \"dankpoet\", \"count\" : 30128 }\n",
    "{ \"_id\" : \"idrive66\", \"count\" : 29742 }\n",
    "{ \"_id\" : \"ECRock\", \"count\" : 23697 }\n",
    "{ \"_id\" : \"sivart\", \"count\" : 22811 }\n",
    "{ \"_id\" : \"RussNelson\", \"count\" : 18800 }\n",
    "{ \"_id\" : \"timr\", \"count\" : 18025 }\n",
    "{ \"_id\" : \"T-Rex\", \"count\" : 15871 }\n",
    "{ \"_id\" : \"visionsofkenobi\", \"count\" : 15249 }\n",
    "{ \"_id\" : \"URcommunications\", \"count\" : 11601 }\n",
    "{ \"_id\" : \"stuuf\", \"count\" : 11024 }\n",
    "{ \"_id\" : \"Craig Williams\", \"count\" : 8023 }\n",
    "{ \"_id\" : \"paperboat\", \"count\" : 6313 }\n",
    "{ \"_id\" : \"devrintalen\", \"count\" : 5789 }\n",
    "{ \"_id\" : \"gadget\", \"count\" : 5785 }\n",
    "{ \"_id\" : \"fx99\", \"count\" : 5584 }\n",
    "{ \"_id\" : \"ColumM\", \"count\" : 5127 }\n",
    "{ \"_id\" : \"bot-mode\", \"count\" : 4931 }\n",
    "{ \"_id\" : \"Nathan Willard\", \"count\" : 4491 }\n",
    "```"
   ]
  },
  {
   "cell_type": "markdown",
   "metadata": {
    "pycharm": {
     "metadata": false,
     "name": "#%% md\n"
    }
   },
   "source": [
    " \n",
    "### Number of users appearing only once (having 1 post)\n",
    "``` python\n",
    "get_single_users(osm_col)\n",
    "'146 users with only one post out of 719'\n",
    "```"
   ]
  },
  {
   "cell_type": "markdown",
   "metadata": {
    "pycharm": {
     "metadata": false,
     "name": "#%% md\n"
    }
   },
   "source": [
    "# Additional Ideas\n",
    "\n",
    "## Contributor statistics  \n",
    "The contributions of users seems somewhat skewed, this seems like it could partly be due to some users being bots. Here are some user percentage statistics:\n",
    "\n",
    "- Top user contribution percentage (“woodpeck_fixbot”) 12.46%\n",
    "- Combined top 2 users' contribution (“wambag” and “woodpeck_fixbot”) 23.02%\n",
    "- Combined Top 10 users contribution 61.09%\n",
    "- Combined number of users making up only 1% of posts 287 (about 24.90% of all users)"
   ]
  },
  {
   "cell_type": "markdown",
   "metadata": {
    "pycharm": {
     "metadata": false,
     "name": "#%% md\n"
    }
   },
   "source": [
    "## Additional Data Exploration\n",
    "\n",
    "### Top 10 appearing amenities\n",
    "\n",
    "```python\n",
    "top_ten_amenities(col=osm_col)[0:10] \n",
    "```\n",
    "```sql\n",
    "                _id  count\n",
    "0              None  49953\n",
    "1           parking   1828\n",
    "2        restaurant    127\n",
    "3            school     85\n",
    "4              fuel     56\n",
    "5         fast_food     54\n",
    "6  place_of_worship     49\n",
    "7              bank     46\n",
    "8           shelter     43\n",
    "9      fire_station     32\n",
    "```"
   ]
  },
  {
   "cell_type": "markdown",
   "metadata": {
    "pycharm": {
     "metadata": false,
     "name": "#%% md\n"
    }
   },
   "source": [
    "### Places of worship by religion\n",
    "\n",
    "``` python3\n",
    "religion = list(osm_col.aggregate([\n",
    "    {\n",
    "        '$match': {\n",
    "            'amenity': {\n",
    "                '$eq': 'place_of_worship'\n",
    "            }\n",
    "        }\n",
    "    }, {\n",
    "        '$group': {\n",
    "            '_id': '$religion', \n",
    "            'count': {\n",
    "                '$sum': 1\n",
    "            }\n",
    "        }\n",
    "    }, {\n",
    "        '$sort': {\n",
    "            'count': -1\n",
    "        }\n",
    "    }\n",
    "]))\n",
    "```\n",
    "\n",
    "```\n",
    "{'_id': 'christian', 'count': 119},\n",
    " {'_id': None, 'count': 19},\n",
    " {'_id': 'jewish', 'count': 2},\n",
    " {'_id': 'buddhist', 'count': 1},\n",
    " {'_id': 'muslim', 'count': 1}\n",
    "```"
   ]
  },
  {
   "cell_type": "markdown",
   "metadata": {
    "pycharm": {
     "metadata": false,
     "name": "#%% md\n"
    }
   },
   "source": [
    "### Most popular cuisines\n",
    "\n",
    "\n",
    "```python3\n",
    "# Most popular cuisine in restaurants\n",
    "cuisine = list(osm_col.aggregate([\n",
    "    {\n",
    "        '$match': {\n",
    "            'amenity': {\n",
    "                '$eq': 'restaurant'\n",
    "            }\n",
    "        }\n",
    "    }, {\n",
    "        '$group': {\n",
    "            '_id': '$cuisine', \n",
    "            'count': {\n",
    "                '$sum': 1\n",
    "            }\n",
    "        }\n",
    "    }, {\n",
    "        '$sort': {\n",
    "            'count': -1\n",
    "        }\n",
    "    }\n",
    "]))\n",
    "pprint(cuisine[0:10])\n",
    "```\n",
    "\n",
    "```python\n",
    "[{'_id': None, 'count': 119},\n",
    " {'_id': 'pizza', 'count': 31},\n",
    " {'_id': 'american', 'count': 25},\n",
    " {'_id': 'italian', 'count': 15},\n",
    " {'_id': 'burger', 'count': 14},\n",
    " {'_id': 'sandwich', 'count': 8},\n",
    " {'_id': 'mexican', 'count': 8},\n",
    " {'_id': 'chinese', 'count': 7},\n",
    " {'_id': 'japanese', 'count': 5},\n",
    " {'_id': 'thai', 'count': 4}]\n",
    "```"
   ]
  },
  {
   "cell_type": "markdown",
   "metadata": {
    "pycharm": {
     "metadata": false,
     "name": "#%% md\n"
    }
   },
   "source": [
    "# Conclusion\n",
    " After this review of the data it’s obvious that the Charlotte area is incomplete, though I believe it has been well cleaned for the purposes of this exercise. It interests me to notice a fair amount of GPS data makes it into OpenStreetMap.org on account of users’ efforts, whether by scripting a map editing bot or otherwise. With a rough GPS data processor in place and working together with a more robust data processor similar to data.pyI think it would be possible to input a great amount of cleaned data to OpenStreetMap.org.\t"
   ]
  },
  {
   "cell_type": "code",
   "execution_count": null,
   "metadata": {},
   "outputs": [],
   "source": []
  }
 ],
 "metadata": {
  "kernelspec": {
   "display_name": "Python 3",
   "language": "python",
   "name": "python3"
  },
  "language_info": {
   "codemirror_mode": {
    "name": "ipython",
    "version": 3
   },
   "file_extension": ".py",
   "mimetype": "text/x-python",
   "name": "python",
   "nbconvert_exporter": "python",
   "pygments_lexer": "ipython3",
   "version": "3.7.3"
  },
  "stem_cell": {
   "cell_type": "raw",
   "metadata": {
    "pycharm": {
     "metadata": false
    }
   },
   "source": ""
  },
  "pycharm": {
   "stem_cell": {
    "cell_type": "raw",
    "source": [],
    "metadata": {
     "collapsed": false
    }
   }
  }
 },
 "nbformat": 4,
 "nbformat_minor": 2
}