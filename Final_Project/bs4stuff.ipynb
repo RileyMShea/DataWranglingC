{
  "cells": [
    {
      "cell_type": "code",
      "execution_count": 3,
      "metadata": {
        "collapsed": true,
        "pycharm": {
          "is_executing": false
        }
      },
      "outputs": [],
      "source": "from bs4 import BeautifulSoup\nfrom pprint import pprint\n\nwith open(\u0027rochester_ny.osm\u0027, \u0027r\u0027, encoding\u003d\u0027utf8\u0027) as f:\n    soup \u003d BeautifulSoup(f, \u0027xml\u0027)\n\n\nnodess \u003d soup.find_all(\u0027node\u0027)\n\n"
    },
    {
      "cell_type": "code",
      "execution_count": null,
      "outputs": [],
      "source": "\n\nx\u003d5\n\n\n[pprint(n.content) for n in nodess]",
      "metadata": {
        "pycharm": {
          "metadata": false,
          "name": "#%%\n"
        }
      }
    }
  ],
  "metadata": {
    "language_info": {
      "codemirror_mode": {
        "name": "ipython",
        "version": 2
      },
      "file_extension": ".py",
      "mimetype": "text/x-python",
      "name": "python",
      "nbconvert_exporter": "python",
      "pygments_lexer": "ipython2",
      "version": "2.7.6"
    },
    "kernelspec": {
      "name": "pycharm-ad3b308b",
      "language": "python",
      "display_name": "PyCharm (DataWrangling)"
    }
  },
  "nbformat": 4,
  "nbformat_minor": 0
}