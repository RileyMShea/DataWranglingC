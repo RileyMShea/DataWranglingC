{
 "cells": [
  {
   "cell_type": "code",
   "execution_count": 1,
   "metadata": {
    "pycharm": {
     "is_executing": false,
     "metadata": false,
     "name": "#%%\n"
    }
   },
   "outputs": [],
   "source": [
    "# -*- coding: utf-8 -*-\n",
    "\n",
    "\n",
    "import json\n",
    "import cchardet as chardet\n",
    "from pprint import pprint\n",
    "from tqdm import tnrange, tqdm_notebook\n",
    "from time import sleep\n",
    "from bs4 import BeautifulSoup\n",
    "from pymongo import MongoClient\n",
    "from pymongo.mongo_client import database\n",
    "from pymongo.collection import Collection\n",
    "import pandas as pd\n",
    "from pprint import pprint\n",
    "from pymongo import IndexModel, ASCENDING, DESCENDING\n",
    "\n",
    "\n",
    "def tqdm_ipython_test():\n",
    "    for i in tnrange(3, desc='1st loop'):\n",
    "        for j in tqdm_notebook(range(100), desc='2nd loop'):\n",
    "            sleep(0.01)\n",
    "\n",
    "\n",
    "def read_osm_file(filename: str):\n",
    "    with open(filename, \"r\", encoding='UTF-8') as f:\n",
    "        msg = f.read()\n",
    "        # result = chardet.detect(msg)\n",
    "    return msg\n",
    "\n",
    "\n",
    "def get_soup(file, tags):\n",
    "    soup = BeautifulSoup(file, 'xml')\n",
    "    return [{tag: soup.find_all(tag)} for tag in tqdm_notebook(tags)]\n",
    "\n",
    "\n",
    "def get_dict_data(result_set_item):\n",
    "    list_of_dicts = []\n",
    "    for k, v in result_set_item:\n",
    "        primary_tag = k\n",
    "        result_set = v\n",
    "    for entry in result_set:\n",
    "        entry_data_dict = {}\n",
    "        entry_data_dict['type'] = primary_tag\n",
    "        for k, v in entry.attrs.items():\n",
    "            entry_data_dict[k] = v\n",
    "        for tag in entry.find_all('tag'):\n",
    "            entry_data_dict[tag['k']] = tag['v']\n",
    "        list_of_dicts.append(entry_data_dict)\n",
    "    return list_of_dicts\n",
    "\n",
    "\n",
    "def json_to_mongo(col: database.Collection, json_file: str =\"rochester_osm.json\" ):\n",
    "    # data = []\n",
    "    with open(json_file) as f:\n",
    "        data = json.load(f)\n",
    "        #for line in f:\n",
    "        #    data.append(json.loads(line))\n",
    "    for node_dict in data:\n",
    "        col.insert_many(node_dict)\n",
    "    # return col.insert_many(data)\n",
    "    \n",
    "\n",
    "\n",
    "def get_col(db_name=\"udacity\", collection=\"rochester_osm\"):\n",
    "    from pymongo import MongoClient\n",
    "    client = MongoClient('localhost:27017')\n",
    "    db = client[db_name]\n",
    "    col = db[collection]\n",
    "    return col\n",
    "\n",
    "\n",
    "def main():\n",
    "    file_name = \"rochester_ny.osm\"\n",
    "    osm_file = read_osm_file(filename=file_name)\n",
    "    tag_list = ['node', 'way']\n",
    "    result_set_list = get_soup(file=osm_file, tags=tag_list)\n",
    "    osm_dicts = [get_dict_data(res) for res in result_set_list.values()]\n",
    "    with open(\"osm_dicts\", 'w') as f:\n",
    "        f.write(osm_dicts)"
   ]
  },
  {
   "cell_type": "markdown",
   "metadata": {
    "pycharm": {
     "metadata": false,
     "name": "#%% md\n"
    }
   },
   "source": [
    "### Code to convert the osm to json in preparation for insertion to MongoDB\n",
    "```python\n",
    "# Loading The osm file\n",
    "file_name = r\"rochester_ny.osm\"\n",
    "osm_file = read_osm_file(filename=file_name)\n",
    "# Loading the osm file into beautiful soup and grabbing all node and way tags\n",
    "tag_list = ['node', 'way']\n",
    "%time result_set_list = get_soup(file=osm_file, tags=tag_list)\n",
    "# make list of dictionaries containing the attribute and tag data for the result set\n",
    "osm_dicts = [get_dict_data(res.items()) for res in result_set_list]\n",
    "# osm_dicts = [get_dict_data(res) for res in result_set_list.values()]\n",
    "# dump this dict data to a json object so that parsing doesn't need to be re-run\n",
    "json_osm = json.dumps(osm_dicts)\n",
    "# write the json to file\n",
    "with open('rochester_osm.json', 'w') as f:\n",
    "    f.write(json_osm)\n",
    "```"
   ]
  },
  {
   "cell_type": "markdown",
   "metadata": {},
   "source": [
    "### Initial MongoDB collection creation\n",
    "- Insert all records from json file\n",
    "- Create compound unique index on 'id' and 'type' fields"
   ]
  },
  {
   "cell_type": "code",
   "execution_count": 2,
   "metadata": {
    "pycharm": {
     "is_executing": false,
     "metadata": false,
     "name": "#%%\n"
    }
   },
   "outputs": [
    {
     "name": "stdout",
     "output_type": "stream",
     "text": [
      "457947 records inserted from rochester_osm.json\n",
      "[{'key': SON([('_id', 1)]),\n",
      "  'name': '_id_',\n",
      "  'ns': 'udacity.rochester_osm',\n",
      "  'v': 2},\n",
      " {'key': SON([('id', 1), ('type', -1)]),\n",
      "  'name': 'id_type_unique_index',\n",
      "  'ns': 'udacity.rochester_osm',\n",
      "  'unique': True,\n",
      "  'v': 2}]\n",
      "Wall time: 14.8 s\n"
     ]
    }
   ],
   "source": [
    "# read the json file we just read to verify it's working\n",
    "from importlib import import_module\n",
    "j2m = import_module('json_to_mongo')\n",
    "%time j2m.main()"
   ]
  },
  {
   "cell_type": "code",
   "execution_count": 3,
   "metadata": {
    "pycharm": {
     "is_executing": false,
     "metadata": false,
     "name": "#%%\n"
    }
   },
   "outputs": [],
   "source": [
    "# setup connection for data exploration and cleaning\n",
    "osm_col = get_col() # type: MongoClient"
   ]
  },
  {
   "cell_type": "markdown",
   "metadata": {
    "pycharm": {
     "metadata": false,
     "name": "#%% md\n"
    }
   },
   "source": [
    "### Query total document count"
   ]
  },
  {
   "cell_type": "code",
   "execution_count": 4,
   "metadata": {},
   "outputs": [
    {
     "data": {
      "text/plain": [
       "457947"
      ]
     },
     "execution_count": 4,
     "metadata": {},
     "output_type": "execute_result"
    }
   ],
   "source": [
    "total_docs = osm_col.count_documents({})\n",
    "total_docs"
   ]
  },
  {
   "cell_type": "markdown",
   "metadata": {},
   "source": [
    "### Get count of each key in collection"
   ]
  },
  {
   "cell_type": "code",
   "execution_count": 5,
   "metadata": {},
   "outputs": [
    {
     "data": {
      "application/vnd.jupyter.widget-view+json": {
       "model_id": "af99ac48dc404bed84a941954dd90131",
       "version_major": 2,
       "version_minor": 0
      },
      "text/plain": [
       "HBox(children=(IntProgress(value=0, max=457947), HTML(value='')))"
      ]
     },
     "metadata": {},
     "output_type": "display_data"
    },
    {
     "name": "stdout",
     "output_type": "stream",
     "text": [
      "\n"
     ]
    }
   ],
   "source": [
    "key_counts_dict = dict()\n",
    "for entry in tqdm_notebook(osm_col.find(), total=total_docs):\n",
    "    for k in entry.keys():\n",
    "        key_counts_dict.setdefault(k, 0)\n",
    "        key_counts_dict[k] += 1"
   ]
  },
  {
   "cell_type": "code",
   "execution_count": 33,
   "metadata": {},
   "outputs": [
    {
     "name": "stdout",
     "output_type": "stream",
     "text": [
      "addr:city, 5104 \n",
      "is_in:city, 1 \n",
      "addr:city_1, 2 \n"
     ]
    },
    {
     "data": {
      "text/plain": [
       "[None, None, None]"
      ]
     },
     "execution_count": 33,
     "metadata": {},
     "output_type": "execute_result"
    }
   ],
   "source": [
    "[print(f\"{k}, {v} \") for k,v in key_counts_dict.items() if ':city' in k]"
   ]
  },
  {
   "cell_type": "code",
   "execution_count": 6,
   "metadata": {},
   "outputs": [
    {
     "name": "stdout",
     "output_type": "stream",
     "text": [
      "[('_id', 457947),\n",
      " ('type', 457947),\n",
      " ('id', 457947),\n",
      " ('version', 457947),\n",
      " ('timestamp', 457947),\n",
      " ('changeset', 457947),\n",
      " ('uid', 457947),\n",
      " ('user', 457947),\n",
      " ('lat', 405420),\n",
      " ('lon', 405420),\n",
      " ('highway', 32238),\n",
      " ('name', 17997),\n",
      " ('building', 14960),\n",
      " ('tiger:county', 12249),\n",
      " ('tiger:cfcc', 12242),\n",
      " ('tiger:name_base', 11459),\n",
      " ('tiger:name_type', 9816),\n",
      " ('tiger:zip_left', 8696),\n",
      " ('tiger:zip_right', 8478),\n",
      " ('tiger:reviewed', 8253),\n",
      " ('service', 6392),\n",
      " ('addr:street', 5587),\n",
      " ('addr:housenumber', 5238),\n",
      " ('addr:postcode', 5123),\n",
      " ('addr:city', 5104),\n",
      " ('addr:state', 4612),\n",
      " ('surface', 3766),\n",
      " ('amenity', 3739),\n",
      " ('oneway', 3347),\n",
      " ('power', 2814),\n",
      " ('source', 2228),\n",
      " ('access', 2052),\n",
      " ('addr:country', 1994),\n",
      " ('ref', 1887),\n",
      " ('footway', 1880),\n",
      " ('leisure', 1528),\n",
      " ('lanes', 1439),\n",
      " ('landuse', 1400),\n",
      " ('railway', 1242),\n",
      " ('tiger:source', 1225),\n",
      " ('tiger:upload_uuid', 1224),\n",
      " ('tiger:name_base_1', 1217),\n",
      " ('tiger:tlid', 1211),\n",
      " ('operator', 1021),\n",
      " ('hgv', 1005),\n",
      " ('parking', 995),\n",
      " ('name_1', 985),\n",
      " ('sport', 916),\n",
      " ('tiger:separated', 879),\n",
      " ('natural', 855),\n",
      " ('maxspeed', 831),\n",
      " ('bridge', 815),\n",
      " ('crossing', 807),\n",
      " ('building:levels', 801),\n",
      " ('foot', 800),\n",
      " ('layer', 789),\n",
      " ('bicycle', 727),\n",
      " ('golf', 684),\n",
      " ('barrier', 654),\n",
      " ('entrance', 640),\n",
      " ('hgv:state_network', 578),\n",
      " ('ele', 568),\n",
      " ('source:hgv:state_network', 555),\n",
      " ('shop', 533),\n",
      " ('wheelchair', 516),\n",
      " ('horse', 511),\n",
      " ('gnis:feature_id', 503),\n",
      " ('lit', 497),\n",
      " ('website', 481),\n",
      " ('fee', 435),\n",
      " ('park_ride', 419),\n",
      " ('waterway', 414),\n",
      " ('supervised', 406),\n",
      " ('gnis:created', 392),\n",
      " ('gnis:state_id', 384),\n",
      " ('gnis:county_id', 383),\n",
      " ('tiger:name_direction_suffix', 355),\n",
      " ('phone', 343),\n",
      " ('cuisine', 341),\n",
      " ('old_railway_operator', 341),\n",
      " ('sidewalk', 307),\n",
      " ('gauge', 290),\n",
      " ('motor_vehicle', 287),\n",
      " ('electrified', 277),\n",
      " ('description', 244),\n",
      " ('created_by', 224),\n",
      " ('tunnel', 219),\n",
      " ('tiger:name_direction_prefix', 218),\n",
      " ('historic', 204),\n",
      " ('old_ref', 203),\n",
      " ('water', 192),\n",
      " ('tourism', 191),\n",
      " ('tiger:name_type_1', 191),\n",
      " ('area', 186),\n",
      " ('covered', 168),\n",
      " ('hgv:national_network', 157),\n",
      " ('source:hgv:national_network', 157),\n",
      " ('width', 157),\n",
      " ('note', 152),\n",
      " ('man_made', 147),\n",
      " ('brand', 147),\n",
      " ('cycleway', 138),\n",
      " ('religion', 137),\n",
      " ('NHS', 136),\n",
      " ('memorial', 133),\n",
      " ('nat_ref', 129),\n",
      " ('opening_hours', 126),\n",
      " ('usage', 126),\n",
      " ('wikidata', 125),\n",
      " ('traffic_signals', 120),\n",
      " ('alt_name', 117),\n",
      " ('place', 111),\n",
      " ('destination:ref', 110),\n",
      " ('brand:wikidata', 106),\n",
      " ('aeroway', 104),\n",
      " ('traffic_signals:direction', 103),\n",
      " ('old_name', 102),\n",
      " ('tiger:zip_left_1', 102),\n",
      " ('office', 99),\n",
      " ('destination', 99),\n",
      " ('brand:wikipedia', 98),\n",
      " ('unsigned_ref', 98),\n",
      " ('rcn_ref', 98),\n",
      " ('gnis:county_name', 91),\n",
      " ('mown', 90),\n",
      " ('gnis:import_uuid', 85),\n",
      " ('gnis:reviewed', 82),\n",
      " ('is_in', 80),\n",
      " ('drive_through', 79),\n",
      " ('smoking', 78),\n",
      " ('gnis:Class', 76),\n",
      " ('gnis:County', 76),\n",
      " ('gnis:County_num', 76),\n",
      " ('gnis:ST_alpha', 76),\n",
      " ('gnis:ST_num', 76),\n",
      " ('gnis:id', 76),\n",
      " ('import_uuid', 76),\n",
      " ('denomination', 75),\n",
      " ('OBJECTID', 73),\n",
      " ('destination:street', 72),\n",
      " ('kerb', 71),\n",
      " ('wikipedia', 70),\n",
      " ('addr:unit', 68),\n",
      " ('junction:ref', 68),\n",
      " ('outdoor_seating', 67),\n",
      " ('healthcare', 67),\n",
      " ('capacity', 64),\n",
      " ('source:imagery', 63),\n",
      " ('boundary', 62),\n",
      " ('historic:amenity', 55),\n",
      " ('attraction', 55),\n",
      " ('internet_access', 54),\n",
      " ('takeaway', 54),\n",
      " ('atm', 53),\n",
      " ('admin_level', 53),\n",
      " ('delivery', 52),\n",
      " ('level', 50),\n",
      " ('tiger:name_base_2', 50),\n",
      " ('maxspeed:advisory', 49),\n",
      " ('shelter', 44),\n",
      " ('tracktype', 44),\n",
      " ('incline', 44),\n",
      " ('nysdot_ref', 43),\n",
      " ('trail_visibility', 43),\n",
      " ('network', 41),\n",
      " ('public_transport', 39),\n",
      " ('name_2', 39),\n",
      " ('bus', 38),\n",
      " ('bench', 37),\n",
      " ('par', 36),\n",
      " ('history', 35),\n",
      " ('healthcare:speciality', 34),\n",
      " ('payment:cash', 34),\n",
      " ('tiger:name_direction_prefix_1', 34),\n",
      " ('addr:housenumber_1', 34),\n",
      " ('addr:housename', 33),\n",
      " ('emergency', 33),\n",
      " ('junction', 33),\n",
      " ('tiger:zip_right_1', 32),\n",
      " ('building:part', 32),\n",
      " ('url', 31),\n",
      " ('basin', 31),\n",
      " ('gnis:edited', 30),\n",
      " ('shelter_type', 30),\n",
      " ('leaf_type', 30),\n",
      " ('internet_access:fee', 29),\n",
      " ('designation', 29),\n",
      " ('lanes:backward', 29),\n",
      " ('lanes:forward', 29),\n",
      " ('payment:credit_cards', 27),\n",
      " ('cycleway:right', 27),\n",
      " ('sac_scale', 26),\n",
      " ('passenger_information_display', 26),\n",
      " ('construction', 26),\n",
      " ('leaf_cycle', 26),\n",
      " ('tactile_paving', 25),\n",
      " ('information', 25),\n",
      " ('start_date', 25),\n",
      " ('cycleway:left', 25),\n",
      " ('height', 25),\n",
      " ('maxheight', 24),\n",
      " ('intermittent', 24),\n",
      " ('driveway', 24),\n",
      " ('noexit', 23),\n",
      " ('fence_type', 23),\n",
      " ('fineley_mown', 23),\n",
      " ('railway:historic', 22),\n",
      " ('payment:debit_cards', 21),\n",
      " ('embankment', 21),\n",
      " ('handrail', 21),\n",
      " ('dist:white', 21),\n",
      " ('direction', 20),\n",
      " ('boat', 20),\n",
      " ('segregated', 20),\n",
      " ('expressway', 19),\n",
      " ('noref', 18),\n",
      " ('contact:website', 18),\n",
      " ('deep_draft', 18),\n",
      " ('motorboat', 18),\n",
      " ('ship', 18),\n",
      " ('dist:black', 18),\n",
      " ('dist:blue', 18),\n",
      " ('dist:red', 18),\n",
      " ('handicap', 18),\n",
      " ('fixme', 17),\n",
      " ('artwork_type', 17),\n",
      " ('turn:lanes:forward', 17),\n",
      " ('tiger:zip_left_2', 17),\n",
      " ('source:deep_draft', 17),\n",
      " ('roof:shape', 17),\n",
      " ('social_facility:for', 16),\n",
      " ('owner', 16),\n",
      " ('social_facility', 16),\n",
      " ('fax', 15),\n",
      " ('dispensing', 15),\n",
      " ('email', 15),\n",
      " ('tiger:name_type_2', 15),\n",
      " ('motorcar', 15),\n",
      " ('roof:colour', 15),\n",
      " ('population', 14),\n",
      " ('craft', 14),\n",
      " ('wetap:status', 13),\n",
      " ('service:vehicle:car_repair', 13),\n",
      " ('turn:lanes:backward', 13),\n",
      " ('tower:type', 12),\n",
      " ('colour', 12),\n",
      " ('bicycle_parking', 12),\n",
      " ('service:vehicle:oil_change', 12),\n",
      " ('loc_ref', 12),\n",
      " ('census:population', 11),\n",
      " ('distance', 11),\n",
      " ('diet:vegan', 11),\n",
      " ('diet:vegetarian', 11),\n",
      " ('contact:phone', 11),\n",
      " ('name:en', 11),\n",
      " ('traffic_calming', 11),\n",
      " ('service:vehicle:tires', 11),\n",
      " ('destination:symbol', 11),\n",
      " ('capacity:disabled', 11),\n",
      " ('proposed', 11),\n",
      " ('stop', 10),\n",
      " ('service:vehicle:brakes', 10),\n",
      " ('service:vehicle:diagnostics', 10),\n",
      " ('service:vehicle:inspection', 10),\n",
      " ('name:railway', 10),\n",
      " ('border_type', 10),\n",
      " ('motorcycle', 10),\n",
      " ('psd', 10),\n",
      " ('FIXME', 9),\n",
      " ('artist_name', 9),\n",
      " ('kerb:left', 9),\n",
      " ('kerb:right', 9),\n",
      " ('service:vehicle:batteries', 9),\n",
      " ('gnis:feature_type', 8),\n",
      " ('fuel:octane_91', 8),\n",
      " ('government', 8),\n",
      " ('indoor', 8),\n",
      " ('payment:mastercard', 8),\n",
      " ('payment:visa', 8),\n",
      " ('building_1', 8),\n",
      " ('service:vehicle:body_repair', 8),\n",
      " ('cutting', 8),\n",
      " ('maxstay', 8),\n",
      " ('building:colour', 8),\n",
      " ('beauty', 7),\n",
      " ('second_hand', 7),\n",
      " ('ref:walmart', 7),\n",
      " ('service:vehicle:car_parts', 7),\n",
      " ('tiger:zip_right_2', 7),\n",
      " ('wetland', 7),\n",
      " ('lock', 7),\n",
      " ('comment', 7),\n",
      " ('crop', 7),\n",
      " ('roller_coaster', 7),\n",
      " ('room', 7),\n",
      " ('disused', 6),\n",
      " ('route_ref', 6),\n",
      " ('generator:source', 6),\n",
      " ('ramp:wheelchair', 6),\n",
      " ('door', 6),\n",
      " ('service:vehicle:air_conditioning', 6),\n",
      " ('service:vehicle:new_car_sales', 6),\n",
      " ('service:vehicle:used_car_sales', 6),\n",
      " ('tiger:zip_left_3', 6),\n",
      " ('ski', 6),\n",
      " ('snowmobile', 6),\n",
      " ('substation', 6),\n",
      " ('waterway_1', 6),\n",
      " ('wall', 6),\n",
      " ('ford', 5),\n",
      " ('attribution', 5),\n",
      " ('bridge:support', 5),\n",
      " ('fuel:octane_87', 5),\n",
      " ('payment:bitcoin', 5),\n",
      " ('amenity_1', 5),\n",
      " ('rooms', 5),\n",
      " ('payment:discover_card', 5),\n",
      " ('generator:method', 5),\n",
      " ('name:ar', 5),\n",
      " ('internet_access:ssid', 5),\n",
      " ('service:vehicle:alignment', 5),\n",
      " ('service:vehicle:electrical', 5),\n",
      " ('service:vehicle:glass', 5),\n",
      " ('cables', 5),\n",
      " ('frequency', 5),\n",
      " ('maxweight', 5),\n",
      " ('lock_name', 5),\n",
      " ('building:material', 5),\n",
      " ('payment:coins', 5),\n",
      " ('addr:housenumber_2', 5),\n",
      " ('addr:housenumber_3', 5),\n",
      " ('addr:housenumber_4', 5),\n",
      " ('addr:housenumber_5', 5),\n",
      " ('stormwater', 5),\n",
      " ('road', 5),\n",
      " ('smoothness', 5),\n",
      " ('wifi', 4),\n",
      " ('number', 4),\n",
      " ('fuel:octane_93', 4),\n",
      " ('playground', 4),\n",
      " ('stars', 4),\n",
      " ('fuel:octane_95', 4),\n",
      " ('fuel:diesel', 4),\n",
      " ('route', 4),\n",
      " ('payment:american_express', 4),\n",
      " ('service:vehicle:wheels', 4),\n",
      " ('tower:construction', 4),\n",
      " ('voltage', 4),\n",
      " ('destination:ref:to', 4),\n",
      " ('heritage', 4),\n",
      " ('heritage:operator', 4),\n",
      " ('ref:nrhp', 4),\n",
      " ('landuse_1', 4),\n",
      " ('mtb:scale:uphill', 4),\n",
      " ('leisure_1', 4),\n",
      " ('payment:amex', 4),\n",
      " ('payment:notes', 4),\n",
      " ('location', 4),\n",
      " ('service:vehicle:repairs', 4),\n",
      " ('addr:street_1', 4),\n",
      " ('dist:gold', 4),\n",
      " ('ref:right', 3),\n",
      " ('ref:left', 3),\n",
      " ('train', 3),\n",
      " ('material', 3),\n",
      " ('fuel:octane_89', 3),\n",
      " ('toilets:wheelchair', 3),\n",
      " ('fireplace', 3),\n",
      " ('building_2', 3),\n",
      " ('payment:cheque', 3),\n",
      " ('facebook', 3),\n",
      " ('service:vehicle:muffler', 3),\n",
      " ('studio', 3),\n",
      " ('inscription', 3),\n",
      " ('product', 3),\n",
      " ('destination:lanes', 3),\n",
      " ('destination:ref:lanes', 3),\n",
      " ('toll', 3),\n",
      " ('oneway:bicycle', 3),\n",
      " ('bridge:name', 3),\n",
      " ('tiger:name_direction_prefix_2', 3),\n",
      " ('FIXME:hgv:state_network', 3),\n",
      " ('extrude', 3),\n",
      " ('source:name', 3),\n",
      " ('capacity:parent', 3),\n",
      " ('capacity:women', 3),\n",
      " ('military', 3),\n",
      " ('mtb:scale', 3),\n",
      " ('courts', 3),\n",
      " ('service:vehicle:Transmission_Repair', 3),\n",
      " ('waterway:historic', 3),\n",
      " ('role', 3),\n",
      " ('landuse_2', 3),\n",
      " ('short_name', 3),\n",
      " ('turn:lanes', 3),\n",
      " ('green', 3),\n",
      " ('wildlife', 3),\n",
      " ('denotation', 3),\n",
      " ('surface:colour', 3),\n",
      " ('tomb', 3),\n",
      " ('service_times', 2),\n",
      " ('backrest', 2),\n",
      " ('distance_marker', 2),\n",
      " ('currency:USD', 2),\n",
      " ('diesel', 2),\n",
      " ('station', 2),\n",
      " ('board_type', 2),\n",
      " ('addr:floor', 2),\n",
      " ('official_name', 2),\n",
      " ('collection_times', 2),\n",
      " ('guidepost', 2),\n",
      " ('fire_hydrant:type', 2),\n",
      " ('addr:place', 2),\n",
      " ('repair', 2),\n",
      " ('year', 2),\n",
      " ('power_supply', 2),\n",
      " ('communication:mobile_phone', 2),\n",
      " ('communication:television', 2),\n",
      " ('source:noname', 2),\n",
      " ('bridge:movable', 2),\n",
      " ('seasonal', 2),\n",
      " ('tiger:zip_right_3', 2),\n",
      " ('FIXME:oneway', 2),\n",
      " ('elevation', 2),\n",
      " ('placement:forward', 2),\n",
      " ('step_count', 2),\n",
      " ('opening_date', 2),\n",
      " ('toilets:disposal', 2),\n",
      " ('unisex', 2),\n",
      " ('runnability', 2),\n",
      " ('generator:type', 2),\n",
      " ('hoops', 2),\n",
      " ('alt_name_1', 2),\n",
      " ('end_date', 2),\n",
      " ('plant:source', 2),\n",
      " ('industrial', 2),\n",
      " ('way', 2),\n",
      " ('addr:city_1', 2),\n",
      " ('addr:street_2', 2),\n",
      " ('produce', 2),\n",
      " ('maxspeed:backward', 2),\n",
      " ('maxspeed:forward', 2),\n",
      " ('monitoring:air_traffic', 2),\n",
      " ('payment:tap_to_pay', 2),\n",
      " ('floating', 2),\n",
      " ('sloped_curb', 1),\n",
      " ('is_in:city', 1),\n",
      " ('church', 1),\n",
      " ('disused:amenity', 1),\n",
      " ('disused:cuisine', 1),\n",
      " ('disused:name', 1),\n",
      " ('seats', 1),\n",
      " ('clock', 1),\n",
      " ('disused:shop', 1),\n",
      " ('drive_in', 1),\n",
      " ('contact:email', 1),\n",
      " ('is_in:continent', 1),\n",
      " ('name:ru', 1),\n",
      " ('name:uk', 1),\n",
      " ('state', 1),\n",
      " ('fuel:e10', 1),\n",
      " ('Routes', 1),\n",
      " ('automated', 1),\n",
      " ('self_service', 1),\n",
      " ('operator:wikidata', 1),\n",
      " ('operator:wikipedia', 1),\n",
      " ('addr:province', 1),\n",
      " ('addr:floot', 1),\n",
      " ('lawyer', 1),\n",
      " ('isced:field', 1),\n",
      " ('traffic_sign', 1),\n",
      " ('addr:pobox', 1),\n",
      " ('category', 1),\n",
      " ('name:es', 1),\n",
      " ('name:ht', 1),\n",
      " ('name:pl', 1),\n",
      " ('service:bicycle:repair', 1),\n",
      " ('service:bicycle:screwdriver', 1),\n",
      " ('service:bicycle:tools', 1),\n",
      " ('exit', 1),\n",
      " ('email_1', 1),\n",
      " ('payment:visa_debit', 1),\n",
      " ('brewery', 1),\n",
      " ('clothes', 1),\n",
      " ('brand_1', 1),\n",
      " ('brand_2', 1),\n",
      " ('brand_3', 1),\n",
      " ('wholesale', 1),\n",
      " ('cash_in', 1),\n",
      " ('animal_shelter', 1),\n",
      " ('community_centre:for', 1),\n",
      " ('contact:twitter', 1),\n",
      " ('lgbtq', 1),\n",
      " ('fire_hydrant:wrench', 1),\n",
      " ('water_source', 1),\n",
      " ('addr:full', 1),\n",
      " ('source:maxspeed', 1),\n",
      " ('access:conditional', 1),\n",
      " ('bridge_type', 1),\n",
      " ('noname', 1),\n",
      " ('tiger:zip_left_4', 1),\n",
      " ('tiger:zip_right_4', 1),\n",
      " ('tiger:name_direction_suffix_1', 1),\n",
      " ('FIXME:motorboat', 1),\n",
      " ('FIXME:ship', 1),\n",
      " ('is_in:country', 1),\n",
      " ('is_in:country_code', 1),\n",
      " ('is_in:iso_3166_2', 1),\n",
      " ('is_in:state', 1),\n",
      " ('is_in:state_code', 1),\n",
      " ('tiger:CLASSFP', 1),\n",
      " ('tiger:CPI', 1),\n",
      " ('tiger:FUNCSTAT', 1),\n",
      " ('tiger:LSAD', 1),\n",
      " ('tiger:MTFCC', 1),\n",
      " ('tiger:NAME', 1),\n",
      " ('tiger:NAMELSAD', 1),\n",
      " ('tiger:PCICBSA', 1),\n",
      " ('tiger:PCINECTA', 1),\n",
      " ('tiger:PLACEFP', 1),\n",
      " ('tiger:PLACENS', 1),\n",
      " ('tiger:PLCIDFP', 1),\n",
      " ('tiger:STATEFP', 1),\n",
      " ('bridge:historic', 1),\n",
      " ('gnis:county', 1),\n",
      " ('gnis:feature', 1),\n",
      " ('ref:Amtrak', 1),\n",
      " ('building:max_level', 1),\n",
      " ('building:min_level', 1),\n",
      " ('operator_1', 1),\n",
      " ('ramp', 1),\n",
      " ('park', 1),\n",
      " ('playground_1', 1),\n",
      " ('playground_2', 1),\n",
      " ('flickr', 1),\n",
      " ('golf:course', 1),\n",
      " ('mtb:scale:imba', 1),\n",
      " ('indistinct', 1),\n",
      " ('generator:output:electricity', 1),\n",
      " ('historic:civilization', 1),\n",
      " ('recycling_type', 1),\n",
      " ('iata', 1),\n",
      " ('icao', 1),\n",
      " ('mowed', 1),\n",
      " ('fineley_mowed', 1),\n",
      " ('dist:white:', 1),\n",
      " ('name:historic', 1),\n",
      " ('water_supply', 1),\n",
      " ('store_ref', 1),\n",
      " ('abandoned', 1),\n",
      " ('fuel:octane_92', 1),\n",
      " ('building:number', 1),\n",
      " ('payment:Monthly_Pass', 1),\n",
      " ('alt_name_2', 1),\n",
      " ('addr:street_3', 1),\n",
      " ('addr:housenumber_6', 1),\n",
      " ('addr:housenumber_7', 1),\n",
      " ('water_1', 1),\n",
      " ('check_date', 1),\n",
      " ('source:url', 1),\n",
      " ('plant:output:electricity', 1),\n",
      " ('payment:electronic_purses', 1),\n",
      " ('source:addr', 1),\n",
      " ('roof:levels', 1),\n",
      " ('historic:tunnel', 1),\n",
      " ('payment:apple_pay', 1),\n",
      " ('facility', 1),\n",
      " ('governance', 1),\n",
      " ('protect_class', 1),\n",
      " ('protection_object', 1),\n",
      " ('protection_title', 1),\n",
      " ('related_law', 1),\n",
      " ('site_ownership', 1),\n",
      " ('bridge:structure', 1),\n",
      " ('memorial_1', 1),\n",
      " ('memorial_2', 1),\n",
      " ('monument', 1),\n",
      " ('monument_1', 1),\n",
      " ('footway_1', 1),\n",
      " ('ref:store_number', 1),\n",
      " ('contact:facebook', 1),\n",
      " ('content', 1),\n",
      " ('note:lanes', 1),\n",
      " ('line', 1),\n",
      " ('faa', 1),\n",
      " ('rooftop', 1),\n",
      " ('beds', 1),\n",
      " ('building:height', 1),\n",
      " ('memorial:text', 1),\n",
      " ('urgent_care', 1),\n",
      " ('historic_1', 1),\n",
      " ('bulk_purchase', 1),\n",
      " ('organic', 1),\n",
      " ('psv', 1),\n",
      " ('min_height', 1),\n",
      " ('phases', 1),\n",
      " ('transformer', 1),\n",
      " ('voltage:primary', 1),\n",
      " ('managed', 1),\n",
      " ('seamark:harbour:category', 1),\n",
      " ('seamark:type', 1),\n",
      " ('abandoned:building', 1),\n",
      " ('fuel:gasoline', 1),\n",
      " ('fire_station:type', 1),\n",
      " ('centre_turn_lane', 1),\n",
      " ('tidal', 1)]\n"
     ]
    }
   ],
   "source": [
    "#itemgetter used with sorted to allow sorting by key values\n",
    "from operator import itemgetter\n",
    "pprint(sorted(key_counts_dict.items(), key=itemgetter(1), reverse=True))"
   ]
  },
  {
   "cell_type": "markdown",
   "metadata": {
    "pycharm": {
     "metadata": false,
     "name": "#%% md\n"
    }
   },
   "source": [
    "### Get a list of fields that begin with address"
   ]
  },
  {
   "cell_type": "code",
   "execution_count": 7,
   "metadata": {
    "pycharm": {
     "is_executing": false,
     "metadata": false,
     "name": "#%%\n"
    }
   },
   "outputs": [
    {
     "name": "stdout",
     "output_type": "stream",
     "text": [
      "[('addr:street', 5587),\n",
      " ('addr:housenumber', 5238),\n",
      " ('addr:postcode', 5123),\n",
      " ('addr:city', 5104),\n",
      " ('addr:state', 4612),\n",
      " ('addr:country', 1994),\n",
      " ('addr:unit', 68),\n",
      " ('addr:housenumber_1', 34),\n",
      " ('addr:housename', 33),\n",
      " ('addr:housenumber_2', 5),\n",
      " ('addr:housenumber_3', 5),\n",
      " ('addr:housenumber_4', 5),\n",
      " ('addr:housenumber_5', 5),\n",
      " ('addr:street_1', 4),\n",
      " ('addr:floor', 2),\n",
      " ('addr:place', 2),\n",
      " ('addr:city_1', 2),\n",
      " ('addr:street_2', 2),\n",
      " ('addr:province', 1),\n",
      " ('addr:floot', 1),\n",
      " ('addr:pobox', 1),\n",
      " ('addr:full', 1),\n",
      " ('addr:street_3', 1),\n",
      " ('addr:housenumber_6', 1),\n",
      " ('addr:housenumber_7', 1),\n",
      " ('source:addr', 1)]\n"
     ]
    }
   ],
   "source": [
    "\n",
    "address_fields = {k:v for (k, v) in key_counts_dict.items() if 'addr' in k}\n",
    "pprint(sorted(address_fields.items(), key=itemgetter(1), reverse=True))\n",
    "\n"
   ]
  },
  {
   "cell_type": "code",
   "execution_count": 8,
   "metadata": {},
   "outputs": [],
   "source": [
    "# Get a list of distinct streets\n",
    "distinct_streets = osm_col.distinct('addr:street')"
   ]
  },
  {
   "cell_type": "code",
   "execution_count": 9,
   "metadata": {},
   "outputs": [
    {
     "name": "stdout",
     "output_type": "stream",
     "text": [
      "{'#102',\n",
      " '#2',\n",
      " '#A-2',\n",
      " '31',\n",
      " '92',\n",
      " 'Apartment',\n",
      " 'Ave',\n",
      " 'Ave.',\n",
      " 'Avenu',\n",
      " 'Avenue',\n",
      " 'Bend',\n",
      " 'Blvd',\n",
      " 'Boulelvard',\n",
      " 'Boulevard',\n",
      " 'Bridge',\n",
      " 'Center',\n",
      " 'Cir',\n",
      " 'Circle',\n",
      " 'Court',\n",
      " 'Crescent',\n",
      " 'Ct',\n",
      " 'Dr',\n",
      " 'Drive',\n",
      " 'Drop',\n",
      " 'East',\n",
      " 'Green',\n",
      " 'Highway',\n",
      " 'Hill',\n",
      " 'Homes',\n",
      " 'Landing',\n",
      " 'Lane',\n",
      " 'Manor',\n",
      " 'Market',\n",
      " 'Meadows',\n",
      " 'N',\n",
      " 'North',\n",
      " 'Oaks',\n",
      " 'PW',\n",
      " 'Park',\n",
      " 'Parkway',\n",
      " 'Passage',\n",
      " 'Place',\n",
      " 'Race',\n",
      " 'Rd',\n",
      " 'Rd.',\n",
      " 'Rise',\n",
      " 'Road',\n",
      " 'Run',\n",
      " 'S',\n",
      " 'South',\n",
      " 'Spruce',\n",
      " 'Square',\n",
      " 'St',\n",
      " 'St.',\n",
      " 'Stree',\n",
      " 'Street',\n",
      " 'Trail',\n",
      " 'Villas',\n",
      " 'W',\n",
      " 'Way',\n",
      " 'West',\n",
      " 'Woods',\n",
      " 'ave',\n",
      " 'line'}\n"
     ]
    }
   ],
   "source": [
    "# Get a list of distinct street types\n",
    "pprint(set(x.split()[-1] for x in distinct_streets))"
   ]
  },
  {
   "cell_type": "markdown",
   "metadata": {
    "pycharm": {
     "is_executing": false,
     "metadata": false,
     "name": "#%% md\n"
    }
   },
   "source": [
    "### find all address codes in collection"
   ]
  },
  {
   "cell_type": "code",
   "execution_count": 10,
   "metadata": {
    "pycharm": {
     "is_executing": false,
     "metadata": false,
     "name": "#%%\n"
    }
   },
   "outputs": [
    {
     "name": "stdout",
     "output_type": "stream",
     "text": [
      "['14607',\n",
      " '14624',\n",
      " '14617',\n",
      " '14623',\n",
      " '14622',\n",
      " '14612',\n",
      " '14626',\n",
      " '14450',\n",
      " '14618',\n",
      " '14616',\n",
      " '14526',\n",
      " '14502',\n",
      " '14514',\n",
      " '14615',\n",
      " '14580',\n",
      " '14620',\n",
      " '14625',\n",
      " '14445',\n",
      " '14608',\n",
      " '14609',\n",
      " '14606',\n",
      " '14559',\n",
      " '14621',\n",
      " '14613',\n",
      " '14534',\n",
      " '14604',\n",
      " '14614',\n",
      " '14620-1327',\n",
      " 'West Main Street',\n",
      " '14694',\n",
      " '14605',\n",
      " '14610',\n",
      " '14611',\n",
      " '14468',\n",
      " '14607-2082',\n",
      " '14519',\n",
      " '14642',\n",
      " '14627',\n",
      " '14624-4721',\n",
      " '14617-1822',\n",
      " '14467',\n",
      " '14692',\n",
      " '14568',\n",
      " '14543',\n",
      " '14586',\n",
      " '14428',\n",
      " '1445033',\n",
      " '14424',\n",
      " '14619']\n"
     ]
    }
   ],
   "source": [
    "unique_zip_codes = osm_col.distinct('addr:postcode')\n",
    "pprint(unique_zip_codes)"
   ]
  },
  {
   "cell_type": "code",
   "execution_count": 11,
   "metadata": {},
   "outputs": [
    {
     "data": {
      "application/vnd.jupyter.widget-view+json": {
       "model_id": "1ac2c8240d5d4424ab24950b500d7b7f",
       "version_major": 2,
       "version_minor": 0
      },
      "text/plain": [
       "HBox(children=(IntProgress(value=0, max=49), HTML(value='')))"
      ]
     },
     "metadata": {},
     "output_type": "display_data"
    },
    {
     "name": "stdout",
     "output_type": "stream",
     "text": [
      "\n",
      "{'deleted': 1, 'good': 43, 'modified': 6}\n"
     ]
    }
   ],
   "source": [
    "update_dict = {'modified': 0,\n",
    "              'deleted': 0,\n",
    "              'good': 0}\n",
    "for zip in tqdm_notebook(unique_zip_codes):\n",
    "    if zip[0:5].isdigit() and len(zip) > 5:\n",
    "        result = osm_col.update_many({'addr:postcode': zip}, {\"$set\": {'addr:postcode': zip[0:5]}}) \n",
    "        update_dict['modified'] += result.modified_count\n",
    "    elif not zip.isdigit() and len(zip)!=5:\n",
    "        result = osm_col.delete_many({'addr:postcode': zip})\n",
    "        update_dict['deleted'] += result.deleted_count\n",
    "    elif zip.isdigit() and len(zip)==5:\n",
    "        update_dict['good'] += 1\n",
    "\n",
    "pprint(update_dict)"
   ]
  },
  {
   "cell_type": "code",
   "execution_count": 12,
   "metadata": {
    "pycharm": {
     "metadata": false,
     "name": "#%%\n"
    }
   },
   "outputs": [
    {
     "data": {
      "text/plain": [
       "{'14424',\n",
       " '14428',\n",
       " '14445',\n",
       " '14450',\n",
       " '14467',\n",
       " '14468',\n",
       " '14502',\n",
       " '14514',\n",
       " '14519',\n",
       " '14526',\n",
       " '14534',\n",
       " '14543',\n",
       " '14559',\n",
       " '14568',\n",
       " '14580',\n",
       " '14586',\n",
       " '14604',\n",
       " '14605',\n",
       " '14606',\n",
       " '14607',\n",
       " '14608',\n",
       " '14609',\n",
       " '14610',\n",
       " '14611',\n",
       " '14612',\n",
       " '14613',\n",
       " '14614',\n",
       " '14615',\n",
       " '14616',\n",
       " '14617',\n",
       " '14618',\n",
       " '14619',\n",
       " '14620',\n",
       " '14621',\n",
       " '14622',\n",
       " '14623',\n",
       " '14624',\n",
       " '14625',\n",
       " '14626',\n",
       " '14627',\n",
       " '14642',\n",
       " '14692',\n",
       " '14694'}"
      ]
     },
     "execution_count": 12,
     "metadata": {},
     "output_type": "execute_result"
    }
   ],
   "source": [
    "#\n",
    "updated_address_code_list = list(osm_col.find({'addr:postcode': {'$exists': True}}, {'addr:postcode': 1, '_id': 0}))\n",
    "set([x['addr:postcode'] for x in updated_address_code_list])\n"
   ]
  },
  {
   "cell_type": "markdown",
   "metadata": {
    "pycharm": {
     "metadata": false,
     "name": "#%%\n"
    }
   },
   "source": [
    "[Rochester Zip codes](https://www.zip-codes.com/city/ny-rochester.asp)\n",
    "> After running our function we can see that all the unique zip codes in the database are valid Rochester Zip codes"
   ]
  },
  {
   "cell_type": "code",
   "execution_count": 70,
   "metadata": {},
   "outputs": [
    {
     "name": "stdout",
     "output_type": "stream",
     "text": [
      "[{'_id': None, 'count': 452824},\n",
      " {'_id': '14450', 'count': 1624},\n",
      " {'_id': '14624', 'count': 445},\n",
      " {'_id': '14618', 'count': 421},\n",
      " {'_id': '14623', 'count': 392},\n",
      " {'_id': '14534', 'count': 346},\n",
      " {'_id': '14626', 'count': 300},\n",
      " {'_id': '14514', 'count': 264},\n",
      " {'_id': '14612', 'count': 226},\n",
      " {'_id': '14620', 'count': 177}]\n"
     ]
    }
   ],
   "source": [
    "pprint(list(osm_col.aggregate([\n",
    "    {\n",
    "        '$group': {\n",
    "            '_id': '$addr:postcode', \n",
    "            'count': {\n",
    "                '$sum': 1\n",
    "            }\n",
    "        }\n",
    "    }, {\n",
    "        '$sort': {\n",
    "            'count': -1\n",
    "        }\n",
    "    }\n",
    "]))[:10])"
   ]
  },
  {
   "cell_type": "markdown",
   "metadata": {},
   "source": [
    "# User Counts"
   ]
  },
  {
   "cell_type": "code",
   "execution_count": 13,
   "metadata": {},
   "outputs": [
    {
     "name": "stdout",
     "output_type": "stream",
     "text": [
      "['dgitto', 'Takuto', 'lonvia', 'glglgl', 'ayazhaider9']\n",
      "'146 users with only one post out of 719'\n"
     ]
    }
   ],
   "source": [
    "def get_single_users(col: Collection):\n",
    "    user_counts_dict = list(col.aggregate([\n",
    "        {\n",
    "            '$sortByCount': '$user'\n",
    "        }, {\n",
    "            '$sort': {\n",
    "                'count': 1\n",
    "            }\n",
    "        }\n",
    "    ]))\n",
    "    single_doc_user = list()\n",
    "    for entry in user_counts_dict:\n",
    "        if entry['count'] == 1:\n",
    "           single_doc_user.append(entry['_id'])\n",
    "        else:\n",
    "            break\n",
    "    pprint(single_doc_user[0:5])\n",
    "    pprint(f\"{len(single_doc_user)} users with only one post out of {len(user_counts_dict)}\")    \n",
    "    # return single_doc_user\n",
    "get_single_users(osm_col)\n"
   ]
  },
  {
   "cell_type": "code",
   "execution_count": 14,
   "metadata": {},
   "outputs": [],
   "source": [
    "user_df = pd.DataFrame.from_dict(list(osm_col.aggregate([ {\n",
    "            '$sortByCount': '$user'\n",
    "        }])))\n",
    "user_df['percent']= user_df['count']/user_df['count'].sum()"
   ]
  },
  {
   "cell_type": "code",
   "execution_count": 15,
   "metadata": {},
   "outputs": [
    {
     "data": {
      "text/plain": [
       "23.01821612155145"
      ]
     },
     "execution_count": 15,
     "metadata": {},
     "output_type": "execute_result"
    }
   ],
   "source": [
    "# Percent of entries that came from top two users\n",
    "user_df[0:2]['percent'].sum()*100"
   ]
  },
  {
   "cell_type": "code",
   "execution_count": 16,
   "metadata": {},
   "outputs": [
    {
     "data": {
      "text/plain": [
       "61.08449467841187"
      ]
     },
     "execution_count": 16,
     "metadata": {},
     "output_type": "execute_result"
    }
   ],
   "source": [
    "# Combined top 10 users contribution\n",
    "user_df[0:10]['percent'].sum()*100"
   ]
  },
  {
   "cell_type": "code",
   "execution_count": 17,
   "metadata": {},
   "outputs": [
    {
     "data": {
      "text/plain": [
       "24.901407589541126"
      ]
     },
     "execution_count": 17,
     "metadata": {},
     "output_type": "execute_result"
    }
   ],
   "source": [
    "# Combined perecent of users who individually contribute less then 1% of the entries in the database\n",
    "user_df[user_df.percent <= .01].percent.sum()*100"
   ]
  },
  {
   "cell_type": "code",
   "execution_count": 18,
   "metadata": {},
   "outputs": [
    {
     "data": {
      "text/plain": [
       "0        woodpeck_fixbot\n",
       "1                 wambag\n",
       "2               dankpoet\n",
       "3               idrive66\n",
       "4                 ECRock\n",
       "5                 sivart\n",
       "6             RussNelson\n",
       "7                   timr\n",
       "8                  T-Rex\n",
       "9        visionsofkenobi\n",
       "10      URcommunications\n",
       "11                 stuuf\n",
       "12        Craig Williams\n",
       "13             paperboat\n",
       "14           devrintalen\n",
       "15                gadget\n",
       "16                  fx99\n",
       "17                ColumM\n",
       "18              bot-mode\n",
       "19        Nathan Willard\n",
       "20                 Hooka\n",
       "21                McColl\n",
       "22                canisd\n",
       "23                deejoe\n",
       "24                Hwyfan\n",
       "25             jwernerny\n",
       "26              kbzimmer\n",
       "27            slugmuffin\n",
       "28             njtbusfan\n",
       "29               jsb2092\n",
       "             ...        \n",
       "689                hakan\n",
       "690            Mickael S\n",
       "691             dmouhama\n",
       "692             Bhojaraj\n",
       "693              Anthony\n",
       "694                 SK53\n",
       "695        JustinColeGIS\n",
       "696    Marcussacapuces91\n",
       "697          Wendy Marks\n",
       "698             dpstreet\n",
       "699              erikjos\n",
       "700    steven mccandlish\n",
       "701     Joshua_Heiberger\n",
       "702        adam1aldridge\n",
       "703          Jochen Topf\n",
       "704                  EoE\n",
       "705            Bootprint\n",
       "706              Hparekh\n",
       "707     Thomas Warmerdam\n",
       "708              Jacob T\n",
       "709              Rockear\n",
       "710     Jerome Bernardes\n",
       "711              baloona\n",
       "712     royalphotography\n",
       "713                GerdP\n",
       "714      ComradeCosmobot\n",
       "715          musclemaint\n",
       "716                 JAG2\n",
       "717        hawverdisplay\n",
       "718               Tma339\n",
       "Name: _id, Length: 719, dtype: object"
      ]
     },
     "execution_count": 18,
     "metadata": {},
     "output_type": "execute_result"
    }
   ],
   "source": [
    "user_df._id"
   ]
  },
  {
   "cell_type": "code",
   "execution_count": 19,
   "metadata": {},
   "outputs": [
    {
     "data": {
      "text/plain": [
       "[{'_id': None, 'count': 49953},\n",
       " {'_id': 'parking', 'count': 1828},\n",
       " {'_id': 'restaurant', 'count': 127},\n",
       " {'_id': 'school', 'count': 85},\n",
       " {'_id': 'fuel', 'count': 56},\n",
       " {'_id': 'fast_food', 'count': 54},\n",
       " {'_id': 'place_of_worship', 'count': 49},\n",
       " {'_id': 'bank', 'count': 46},\n",
       " {'_id': 'shelter', 'count': 43},\n",
       " {'_id': 'fire_station', 'count': 32}]"
      ]
     },
     "execution_count": 19,
     "metadata": {},
     "output_type": "execute_result"
    }
   ],
   "source": [
    "def top_ten_amenities(col: Collection):\n",
    "    top_amenities= list(col.aggregate([\n",
    "    {\n",
    "        '$match': {\n",
    "            'type': 'way'\n",
    "        }\n",
    "    }, {\n",
    "        '$sortByCount': '$amenity'\n",
    "    }\n",
    "]))\n",
    "    return top_amenities\n",
    "top_ten_amenities(col=osm_col)[0:10] \n",
    "   "
   ]
  },
  {
   "cell_type": "code",
   "execution_count": 20,
   "metadata": {},
   "outputs": [
    {
     "name": "stdout",
     "output_type": "stream",
     "text": [
      "                _id  count\n",
      "0              None  49953\n",
      "1           parking   1828\n",
      "2        restaurant    127\n",
      "3            school     85\n",
      "4              fuel     56\n",
      "5         fast_food     54\n",
      "6  place_of_worship     49\n",
      "7              bank     46\n",
      "8           shelter     43\n",
      "9      fire_station     32\n"
     ]
    }
   ],
   "source": [
    "\n",
    "\n",
    "\n",
    "df = pd.DataFrame.from_dict(top_ten_amenities(osm_col))\n",
    "pprint(df[0:10])"
   ]
  },
  {
   "cell_type": "code",
   "execution_count": 21,
   "metadata": {},
   "outputs": [],
   "source": [
    "df['percent'] = df['count']/df['count'].sum()"
   ]
  },
  {
   "cell_type": "markdown",
   "metadata": {},
   "source": [
    "``` table \n",
    "_id|count|percent\\r\\n|49953|0.951069055461417\\r\\nparking|1828|0.034803800239894905\\r\\nrestaurant|127|0.0024179883098832894\\r\\nschool|85|0.001618338632599052\\r\\nfuel|56|0.0010661995697123165\\r\\n\n",
    "```"
   ]
  },
  {
   "cell_type": "code",
   "execution_count": 22,
   "metadata": {},
   "outputs": [
    {
     "data": {
      "text/html": [
       "<div>\n",
       "<style scoped>\n",
       "    .dataframe tbody tr th:only-of-type {\n",
       "        vertical-align: middle;\n",
       "    }\n",
       "\n",
       "    .dataframe tbody tr th {\n",
       "        vertical-align: top;\n",
       "    }\n",
       "\n",
       "    .dataframe thead th {\n",
       "        text-align: right;\n",
       "    }\n",
       "</style>\n",
       "<table border=\"1\" class=\"dataframe\">\n",
       "  <thead>\n",
       "    <tr style=\"text-align: right;\">\n",
       "      <th></th>\n",
       "      <th>count</th>\n",
       "      <th>percent</th>\n",
       "    </tr>\n",
       "  </thead>\n",
       "  <tbody>\n",
       "    <tr>\n",
       "      <th>count</th>\n",
       "      <td>48.000000</td>\n",
       "      <td>48.000000</td>\n",
       "    </tr>\n",
       "    <tr>\n",
       "      <th>mean</th>\n",
       "      <td>53.541667</td>\n",
       "      <td>0.001019</td>\n",
       "    </tr>\n",
       "    <tr>\n",
       "      <th>std</th>\n",
       "      <td>262.708232</td>\n",
       "      <td>0.005002</td>\n",
       "    </tr>\n",
       "    <tr>\n",
       "      <th>min</th>\n",
       "      <td>1.000000</td>\n",
       "      <td>0.000019</td>\n",
       "    </tr>\n",
       "    <tr>\n",
       "      <th>25%</th>\n",
       "      <td>3.000000</td>\n",
       "      <td>0.000057</td>\n",
       "    </tr>\n",
       "    <tr>\n",
       "      <th>50%</th>\n",
       "      <td>6.500000</td>\n",
       "      <td>0.000124</td>\n",
       "    </tr>\n",
       "    <tr>\n",
       "      <th>75%</th>\n",
       "      <td>14.250000</td>\n",
       "      <td>0.000271</td>\n",
       "    </tr>\n",
       "    <tr>\n",
       "      <th>max</th>\n",
       "      <td>1828.000000</td>\n",
       "      <td>0.034804</td>\n",
       "    </tr>\n",
       "  </tbody>\n",
       "</table>\n",
       "</div>"
      ],
      "text/plain": [
       "             count    percent\n",
       "count    48.000000  48.000000\n",
       "mean     53.541667   0.001019\n",
       "std     262.708232   0.005002\n",
       "min       1.000000   0.000019\n",
       "25%       3.000000   0.000057\n",
       "50%       6.500000   0.000124\n",
       "75%      14.250000   0.000271\n",
       "max    1828.000000   0.034804"
      ]
     },
     "execution_count": 22,
     "metadata": {},
     "output_type": "execute_result"
    }
   ],
   "source": [
    "df[1:].describe()"
   ]
  },
  {
   "cell_type": "code",
   "execution_count": 23,
   "metadata": {},
   "outputs": [
    {
     "data": {
      "text/plain": [
       "49"
      ]
     },
     "execution_count": 23,
     "metadata": {},
     "output_type": "execute_result"
    }
   ],
   "source": [
    "df.shape[0]"
   ]
  },
  {
   "cell_type": "code",
   "execution_count": 25,
   "metadata": {},
   "outputs": [
    {
     "name": "stdout",
     "output_type": "stream",
     "text": [
      "[{'_id': 'christian', 'count': 119},\n",
      " {'_id': None, 'count': 19},\n",
      " {'_id': 'jewish', 'count': 2},\n",
      " {'_id': 'buddhist', 'count': 1},\n",
      " {'_id': 'muslim', 'count': 1}]\n"
     ]
    }
   ],
   "source": [
    "# Biggest Religion\n",
    "religion = list(osm_col.aggregate([\n",
    "    {\n",
    "        '$match': {\n",
    "            'amenity': {\n",
    "                '$eq': 'place_of_worship'\n",
    "            }\n",
    "        }\n",
    "    }, {\n",
    "        '$group': {\n",
    "            '_id': '$religion', \n",
    "            'count': {\n",
    "                '$sum': 1\n",
    "            }\n",
    "        }\n",
    "    }, {\n",
    "        '$sort': {\n",
    "            'count': -1\n",
    "        }\n",
    "    }\n",
    "]))\n",
    "pprint(religion)"
   ]
  },
  {
   "cell_type": "code",
   "execution_count": 27,
   "metadata": {},
   "outputs": [
    {
     "name": "stdout",
     "output_type": "stream",
     "text": [
      "[{'_id': None, 'count': 119},\n",
      " {'_id': 'pizza', 'count': 31},\n",
      " {'_id': 'american', 'count': 25},\n",
      " {'_id': 'italian', 'count': 15},\n",
      " {'_id': 'burger', 'count': 14},\n",
      " {'_id': 'sandwich', 'count': 8},\n",
      " {'_id': 'mexican', 'count': 8},\n",
      " {'_id': 'chinese', 'count': 7},\n",
      " {'_id': 'japanese', 'count': 5},\n",
      " {'_id': 'thai', 'count': 4}]\n"
     ]
    }
   ],
   "source": [
    "# Most popular cuisine in restaurants\n",
    "cuisine = list(osm_col.aggregate([\n",
    "    {\n",
    "        '$match': {\n",
    "            'amenity': {\n",
    "                '$eq': 'restaurant'\n",
    "            }\n",
    "        }\n",
    "    }, {\n",
    "        '$group': {\n",
    "            '_id': '$cuisine', \n",
    "            'count': {\n",
    "                '$sum': 1\n",
    "            }\n",
    "        }\n",
    "    }, {\n",
    "        '$sort': {\n",
    "            'count': -1\n",
    "        }\n",
    "    }\n",
    "]))\n",
    "pprint(cuisine[0:10])"
   ]
  },
  {
   "cell_type": "code",
   "execution_count": 67,
   "metadata": {},
   "outputs": [
    {
     "name": "stdout",
     "output_type": "stream",
     "text": [
      "None                452842\n",
      "Rochester           2227\n",
      "Fairport            1612\n",
      "Pittsford           350\n",
      "North Chili         264\n",
      "Brighton            205\n",
      "Greece              161\n",
      "Webster             86\n",
      "Henrietta           35\n",
      "Churchville         29\n",
      "West Henrietta      18\n",
      "East Rochester      17\n",
      "Rochester, NY       16\n",
      "Penfield            16\n",
      "Perinton            15\n",
      "Hilton              15\n",
      "Spencerport         11\n",
      "North Greece        5\n",
      "Macedon             5\n",
      "Riga                2\n",
      "rochester           2\n",
      "Ontario, NY         2\n",
      "Walworth            2\n",
      "Gates               2\n",
      "Irondequoit         2\n",
      "Ontario             1\n",
      "W Commercial St     1\n",
      "Rochestet           1\n",
      "pittsford           1\n",
      "East Rochester Town 1\n"
     ]
    }
   ],
   "source": [
    "#City counts\n",
    "city_counts = list(osm_col.aggregate([\n",
    "    {\n",
    "        '$group': {\n",
    "            '_id': '$addr:city', \n",
    "            'count': {\n",
    "                '$sum': 1\n",
    "            }\n",
    "        }\n",
    "    }, {\n",
    "        '$sort': {\n",
    "            'count': -1\n",
    "        }\n",
    "    }\n",
    "]))\n",
    "print('\\n'.join('{_id!s:<20}{count}'.format(**x) for x in city_counts))"
   ]
  },
  {
   "cell_type": "code",
   "execution_count": 44,
   "metadata": {},
   "outputs": [
    {
     "name": "stdout",
     "output_type": "stream",
     "text": [
      "No Spacing:\n",
      "correct|phonetic_correct|typo|phonetic_typo|phonetic_distance|\n",
      "\n",
      "Right Aligned:\n",
      "   correct|    phonetic_correct|      typo|       phonetic_typo|   phonetic_distance|\n",
      "\n"
     ]
    }
   ],
   "source": [
    "correct = 'correct'\n",
    "phonetic_correct = 'phonetic_correct'\n",
    "typo = 'typo'\n",
    "phonetic_typo = 'phonetic_typo'\n",
    "phonetic_distance = 'phonetic_distance'\n",
    "\n",
    "print(f'No Spacing:')\n",
    "print(f'{correct}|{phonetic_correct}|{typo}|{phonetic_typo}|{phonetic_distance}|\\n')\n",
    "# No Spacing:\n",
    "# correct|phonetic_correct|typo|phonetic_typo|phonetic_distance|\n",
    "\n",
    "print(f'Right Aligned:')\n",
    "print(f'{correct:>10}|{phonetic_correct:>20}|{typo:>10}|{phonetic_typo:>20}|{phonetic_distance:>20}|\\n')\n",
    "# Right Aligned:"
   ]
  },
  {
   "cell_type": "markdown",
   "metadata": {},
   "source": [
    "| Command | Description |\n",
    "| --- | --- |\n",
    "| `git status` | List all *new or modified* files |\n",
    "| `git diff` | Show file differences that **haven't been** staged |"
   ]
  },
  {
   "cell_type": "code",
   "execution_count": null,
   "metadata": {},
   "outputs": [],
   "source": []
  }
 ],
 "metadata": {
  "kernelspec": {
   "display_name": "Python 3",
   "language": "python",
   "name": "python3"
  },
  "language_info": {
   "codemirror_mode": {
    "name": "ipython",
    "version": 3
   },
   "file_extension": ".py",
   "mimetype": "text/x-python",
   "name": "python",
   "nbconvert_exporter": "python",
   "pygments_lexer": "ipython3",
   "version": "3.7.3"
  },
  "stem_cell": {
   "cell_type": "raw",
   "metadata": {
    "pycharm": {
     "metadata": false
    }
   },
   "source": ""
  }
 },
 "nbformat": 4,
 "nbformat_minor": 2
}
