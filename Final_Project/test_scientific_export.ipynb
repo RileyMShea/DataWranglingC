{
 "cells": [
  {
   "cell_type": "code",
   "execution_count": 1,
   "metadata": {
    "pycharm": {
     "is_executing": false,
     "metadata": false,
     "name": "#%%\n"
    }
   },
   "outputs": [],
   "source": [
    "# -*- coding: utf-8 -*-\n",
    "\n",
    "\n",
    "import json\n",
    "import cchardet as chardet\n",
    "from pprint import pprint\n",
    "from tqdm import tnrange, tqdm_notebook\n",
    "from time import sleep\n",
    "from bs4 import BeautifulSoup\n",
    "\n",
    "\n",
    "def tqdm_ipython_test():\n",
    "    for i in tnrange(3, desc='1st loop'):\n",
    "        for j in tqdm_notebook(range(100), desc='2nd loop'):\n",
    "            sleep(0.01)\n",
    "\n",
    "\n",
    "def read_osm_file(filename):\n",
    "    with open(filename, \"r\", encoding='UTF-8') as f:\n",
    "        msg = f.read()\n",
    "        # result = chardet.detect(msg)\n",
    "    return msg\n",
    "\n",
    "\n",
    "def get_soup(file, tags):\n",
    "    soup = BeautifulSoup(file, 'xml', from_encoding='UTF-8')\n",
    "    return [{tag: soup.find_all(tag)} for tag in tqdm_notebook(tags)]\n",
    "\n",
    "\n",
    "def get_dict_data(result_set_item):\n",
    "    list_of_dicts = []\n",
    "    for k, v in result_set_item:\n",
    "        primary_tag = k\n",
    "        result_set = v\n",
    "    for entry in result_set:\n",
    "        entry_data_dict = {}\n",
    "        entry_data_dict['type'] = primary_tag\n",
    "        for k, v in entry.attrs.items():\n",
    "            entry_data_dict[k] = v\n",
    "        for tag in entry.find_all('tag'):\n",
    "            entry_data_dict[tag['k']] = tag['v']\n",
    "        list_of_dicts.append(entry_data_dict)\n",
    "    return list_of_dicts\n",
    "\n",
    "\n",
    "def json_to_mongo(json_file, col):\n",
    "    data = []\n",
    "    with open(json_file) as f:\n",
    "        for line in f:\n",
    "            data.append(json.loads(line))\n",
    "    return col.insert_many(data)\n",
    "\n",
    "\n",
    "def get_db(db_name):\n",
    "    from pymongo import MongoClient\n",
    "    client = MongoClient('localhost:27017')\n",
    "    db = client[db_name]\n",
    "    return db\n",
    "\n",
    "\n",
    "def main():\n",
    "    file_name = \"rochester_ny.osm\"\n",
    "    osm_file = read_osm_file(filename=file_name)\n",
    "    tag_list = ['node', 'way']\n",
    "    result_set_list = get_soup(file=osm_file, tags=tag_list)\n",
    "\n",
    "    osm_dicts = [get_dict_data(res) for res in result_set_list.values()]\n",
    "\n",
    "    with open(\"osm_dicts\", 'w') as f:\n",
    "        f.write(osm_dicts)\n",
    "    # json_file = \"twitter.json\"\n",
    "    # db = get_db(\"udacity\")\n",
    "    # col = db.twitter\n",
    "    # json_to_mongo(json_file=json_file, col=col)\n",
    "\n"
   ]
  },
  {
   "cell_type": "code",
   "execution_count": null,
   "metadata": {
    "pycharm": {
     "metadata": false,
     "name": "#%%\n"
    }
   },
   "outputs": [],
   "source": [
    "if __name__ == \"__main__\":\n",
    "    main()\n"
   ]
  },
  {
   "cell_type": "code",
   "execution_count": 2,
   "metadata": {
    "pycharm": {
     "is_executing": false,
     "metadata": false,
     "name": "#%%\n"
    }
   },
   "outputs": [],
   "source": [
    "\n",
    "# Loading The osm file\n",
    "file_name = r\"C:\\Users\\Riley\\PycharmProjects\\DataWrangling\\Final_Project\\rochester_ny.osm\"\n",
    "osm_file = read_osm_file(filename=file_name)\n"
   ]
  },
  {
   "cell_type": "code",
   "execution_count": null,
   "metadata": {
    "pycharm": {
     "metadata": false,
     "name": "#%%\n"
    }
   },
   "outputs": [],
   "source": [
    "# Loading the osm file into beautiful soup and grabbing all node and way tags\n",
    "tag_list = ['node', 'way']\n",
    "result_set_list = get_soup(file=osm_file, tags=tag_list)\n"
   ]
  },
  {
   "cell_type": "code",
   "execution_count": null,
   "metadata": {
    "pycharm": {
     "metadata": false,
     "name": "#%%\n"
    }
   },
   "outputs": [],
   "source": [
    "\n",
    "# make list of dictionaries containing the attribute and tag data for the result set\n",
    "osm_dicts = [get_dict_data(res.items()) for res in result_set_list]\n",
    "# osm_dicts = [get_dict_data(res) for res in result_set_list.values()]\n"
   ]
  },
  {
   "cell_type": "code",
   "execution_count": null,
   "metadata": {
    "pycharm": {
     "metadata": false,
     "name": "#%%\n"
    }
   },
   "outputs": [],
   "source": [
    "# dump this dict data to a json file so that parsing doesn't need to be re-run\n",
    "json_osm = json.dumps(osm_dicts)\n"
   ]
  },
  {
   "cell_type": "code",
   "execution_count": null,
   "metadata": {
    "pycharm": {
     "metadata": false,
     "name": "#%%\n"
    }
   },
   "outputs": [],
   "source": [
    "# write the json to file\n",
    "with open('rochester_osm.json', 'w') as f:\n",
    "    f.write(json_osm)\n"
   ]
  },
  {
   "cell_type": "code",
   "execution_count": null,
   "metadata": {
    "pycharm": {
     "metadata": false,
     "name": "#%%\n"
    }
   },
   "outputs": [],
   "source": [
    "# read the json file we just read to verify it's working\n",
    "with open(r'C:\\Users\\Riley\\PycharmProjects\\DataWrangling\\rochester_osm.json', 'r') as f:\n",
    "    json_osm = f.read()\n",
    "\n",
    "data = json.loads(json_osm)"
   ]
  },
  {
   "cell_type": "code",
   "execution_count": null,
   "metadata": {
    "pycharm": {
     "metadata": false,
     "name": "#%%\n"
    }
   },
   "outputs": [],
   "source": [
    "# connect to the database/collection we'll be storing the osm data in\n",
    "db = get_db(\"udacity\")\n",
    "col = db.rochester_osm\n",
    "for dl in osm_dicts:\n",
    "    col.insert_many(dl)\n"
   ]
  },
  {
   "cell_type": "code",
   "execution_count": null,
   "metadata": {
    "pycharm": {
     "metadata": false,
     "name": "#%%\n"
    }
   },
   "outputs": [],
   "source": [
    "# use function we defined to upload our json data to the collection\n",
    "json_file = \"rochester_osm.json\"\n",
    "\n",
    "json_to_mongo(json_file=json_file, col=col)"
   ]
  },
  {
   "cell_type": "code",
   "execution_count": null,
   "metadata": {
    "pycharm": {
     "metadata": false,
     "name": "#%%\n"
    }
   },
   "outputs": [],
   "source": [
    "# setup connection for data exploration and cleaning\n",
    "\n",
    "from pymongo import MongoClient\n",
    "\n",
    "client = MongoClient('localhost:27017')\n",
    "db = client[\"udacity\"]\n",
    "osm_col = db[\"rochester_osm\"]\n"
   ]
  },
  {
   "cell_type": "code",
   "execution_count": null,
   "metadata": {
    "pycharm": {
     "metadata": false,
     "name": "#%%\n"
    }
   },
   "outputs": [],
   "source": [
    "\n",
    "# Run a query to get a list of unique keys for the osm Data we uploaded\n",
    "from pprint import pprint\n",
    "\n",
    "pipeline = [\n",
    "    {\n",
    "        '$project': {\n",
    "            'arrayofkeyvalue': {\n",
    "                '$objectToArray': '$$ROOT'\n",
    "            }\n",
    "        }\n",
    "    }, {\n",
    "        '$unwind': {\n",
    "            'path': '$arrayofkeyvalue'\n",
    "        }\n",
    "    }, {\n",
    "        '$group': {\n",
    "            '_id': None,\n",
    "            'allkeys': {\n",
    "                '$addToSet': '$arrayofkeyvalue.k'\n",
    "            }\n",
    "        }\n",
    "    }\n",
    "]\n",
    "\n",
    "unique_osm_keys = list(osm_col.aggregate(pipeline=pipeline))\n",
    "\n",
    "pprint(list(osm_col.aggregate(pipeline=pipeline)))\n"
   ]
  },
  {
   "cell_type": "code",
   "execution_count": null,
   "metadata": {
    "pycharm": {
     "metadata": false,
     "name": "#%%\n"
    }
   },
   "outputs": [],
   "source": [
    "\n",
    "# Get a list of fields that begin with address\n",
    "address_fields = [x for x in unique_osm_keys[0]['allkeys'] if str(x).startswith('addr')]\n",
    "pprint(sorted(address_fields))\n"
   ]
  },
  {
   "cell_type": "code",
   "execution_count": null,
   "metadata": {
    "pycharm": {
     "metadata": false,
     "name": "#%%\n"
    }
   },
   "outputs": [],
   "source": [
    "# find all address codes in collection\n",
    "return_field = {'_id': False,\n",
    "                'addr:postcode': True}\n",
    "\n",
    "address_code_list = list(osm_col.find({'addr:postcode': {'$exists': True}}, {'addr:postcode': 1, '_id': 0}))\n",
    "pprint(address_code_list)\n"
   ]
  },
  {
   "cell_type": "code",
   "execution_count": null,
   "metadata": {
    "pycharm": {
     "metadata": false,
     "name": "#%%\n"
    }
   },
   "outputs": [],
   "source": [
    "# get unique zip codes\n",
    "unique_zip_codes = set([x['addr:postcode'] for x in address_code_list])\n",
    "pprint(unique_zip_codes)\n"
   ]
  },
  {
   "cell_type": "code",
   "execution_count": null,
   "metadata": {
    "pycharm": {
     "metadata": false,
     "name": "#%%\n"
    }
   },
   "outputs": [],
   "source": [
    "\n",
    "testersss = list(osm_col.find({'addr:postcode': \"1445033\"}, {'_id': 0}))\n"
   ]
  },
  {
   "cell_type": "code",
   "execution_count": null,
   "metadata": {
    "pycharm": {
     "metadata": false,
     "name": "#%%\n"
    }
   },
   "outputs": [],
   "source": [
    "# fix the outlier record with googled zipcode\n",
    "testersss = list(osm_col.find({'addr:postcode': \"West Main Street\"}))\n",
    "\n",
    "myquery = {'id': \"1609006999\"}\n",
    "newvalues = [{\"$set\": {\"addr:postcode\": \"14614\"}},  # zip code from googling address\n",
    "             {\"$set\": {\"addr:street\": \"West Main Street\"}}]  # upserting street address\n",
    "\n",
    "for value in newvalues:\n",
    "    update_s = osm_col.update_one(myquery, value)\n",
    "    pprint(update_s.raw_result)\n",
    "    pprint(update_s.upserted_id)\n"
   ]
  },
  {
   "cell_type": "code",
   "execution_count": null,
   "metadata": {
    "pycharm": {
     "metadata": false,
     "name": "#%%\n"
    }
   },
   "outputs": [],
   "source": [
    "# Validate update worked\n",
    "pprint(list(osm_col.find({'id': '1609006999'})))"
   ]
  },
  {
   "cell_type": "code",
   "execution_count": null,
   "metadata": {
    "pycharm": {
     "metadata": false,
     "name": "#%%\n"
    }
   },
   "outputs": [],
   "source": [
    "# get a list of zip codes that aren't the standard 5 digit format\n",
    "zips_to_fix = [x for x in unique_zip_codes if len(x) > 5 and str(x)[0:5].isdigit()]\n"
   ]
  },
  {
   "cell_type": "code",
   "execution_count": null,
   "metadata": {
    "pycharm": {
     "metadata": false,
     "name": "#%%\n"
    }
   },
   "outputs": [],
   "source": [
    "# loop to fix the malformed zipcodes\n",
    "for value in zips_to_fix:\n",
    "    myquery = {\"addr:postcode\": value}\n",
    "    value = {\"$set\": {\"addr:postcode\": str(value[0:5])}}\n",
    "    update_s = osm_col.update_one(myquery, value)\n",
    "    pprint(update_s.raw_result)\n",
    "    pprint(update_s.upserted_id)\n",
    "    pprint(update_s.acknowledged)\n",
    "    pprint(update_s.matched_count)\n"
   ]
  },
  {
   "cell_type": "code",
   "execution_count": null,
   "metadata": {
    "pycharm": {
     "metadata": false,
     "name": "#%%\n"
    }
   },
   "outputs": [],
   "source": [
    "#\n",
    "updated_address_code_list = list(osm_col.find({'addr:postcode': {'$exists': True}}, {'addr:postcode': 1, '_id': 0}))\n",
    "set([x['addr:postcode'] for x in updated_address_code_list])\n"
   ]
  },
  {
   "cell_type": "code",
   "execution_count": null,
   "metadata": {
    "pycharm": {
     "metadata": false,
     "name": "#%%\n"
    }
   },
   "outputs": [],
   "source": [
    "t"
   ]
  }
 ],
 "metadata": {
  "kernelspec": {
   "display_name": "Python 3",
   "language": "python",
   "name": "python3"
  },
  "language_info": {
   "codemirror_mode": {
    "name": "ipython",
    "version": 3
   },
   "file_extension": ".py",
   "mimetype": "text/x-python",
   "name": "python",
   "nbconvert_exporter": "python",
   "pygments_lexer": "ipython3",
   "version": "3.7.3"
  },
  "stem_cell": {
   "cell_type": "raw",
   "metadata": {
    "pycharm": {
     "metadata": false
    }
   },
   "source": ""
  }
 },
 "nbformat": 4,
 "nbformat_minor": 1
}
